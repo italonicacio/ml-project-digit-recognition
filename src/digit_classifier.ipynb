{
 "cells": [
  {
   "cell_type": "code",
   "execution_count": 1,
   "metadata": {},
   "outputs": [],
   "source": [
    "import pandas as pd\n",
    "import numpy as np\n",
    "import matplotlib.pyplot as plt\n",
    "from sklearn.metrics import confusion_matrix\n",
    "from sklearn.metrics import precision_score, recall_score\n",
    "from sklearn.metrics import f1_score, accuracy_score\n",
    "from sklearn.metrics import precision_recall_fscore_support as score\n",
    "from sklearn.metrics import classification_report\n",
    "\n",
    "from ml_models.pocketpla import PocketPLA\n",
    "\n",
    "%matplotlib inline"
   ]
  },
  {
   "cell_type": "code",
   "execution_count": 2,
   "metadata": {},
   "outputs": [],
   "source": [
    "labels = [0, 1, 2, 3, 4, 5, 6, 7, 8 ]\n",
    "directory = '../data/filtered_digit_dataset/'\n",
    "X_tests = []\n",
    "Y_tests = []\n",
    "X_trains = []\n",
    "Y_trains = []\n",
    "\n",
    "for l in labels:\n",
    "\n",
    "    \n",
    "    filename_x_test = str(l) + '_x_test.txt'\n",
    "    filename_y_test = str(l) + '_y_test.txt'\n",
    "\n",
    "    filename_x_train = str(l) + '_x_train.txt'\n",
    "    filename_y_train = str(l) + '_y_train.txt'\n",
    "    x_test = np.loadtxt(directory + filename_x_test, dtype = float)\n",
    "    y_test = np.loadtxt(directory + filename_y_test, dtype = int)\n",
    "\n",
    "    x_train = np.loadtxt(directory + filename_x_train, dtype = float)\n",
    "    y_train = np.loadtxt(directory + filename_y_train, dtype = int)\n",
    "\n",
    "    X_tests.append(x_test)\n",
    "    Y_tests.append(y_test)\n",
    "\n",
    "    X_trains.append(x_train)\n",
    "    Y_trains.append(y_train)\n",
    "\n",
    "\n",
    "\n"
   ]
  },
  {
   "cell_type": "code",
   "execution_count": 3,
   "metadata": {},
   "outputs": [],
   "source": [
    "import numpy as np\n",
    "\n",
    "class LinearRegression:\n",
    "    def execute(self, _X, _y):\n",
    "        X = np.array(list(map(lambda x: [1, x[0], x[1]], _X)))\n",
    "\n",
    "\n",
    "        X =  np.array(X)\n",
    "        y =  np.array(_y)\n",
    "        xTx = np.dot(X.transpose(), X)\n",
    "        inverse = np.linalg.inv(xTx)\n",
    "        self.w = np.dot(np.dot( inverse, X.transpose()), y)\n",
    "    \n",
    "    def predict(self, _x):\n",
    "\n",
    "        X = np.array(list(map(lambda x: [1, x[0], x[1]], _x)))\n",
    "\n",
    "        return [np.dot(self.w, xn) for xn in X]\n",
    "    \n",
    "    def getOriginalY(self, originalX):\n",
    "        return (-self.w[0] - self.w[1]*originalX) / self.w[2]\n",
    "\n",
    "    def get_w(self):\n",
    "        return self.w"
   ]
  },
  {
   "cell_type": "code",
   "execution_count": 4,
   "metadata": {},
   "outputs": [],
   "source": [
    "# from linearregression import LinearRegression\n",
    "# from pla import PLA\n",
    "\n",
    "# class LRClassifier():\n",
    "#     def execute(self, _X, _y):\n",
    "#         lr = LinearRegression()\n",
    "#         lr.execute(_X, _y)\n",
    "#         self.w = lr.get_w()\n",
    "        \n",
    "#         #pla = PLA()\n",
    "#         #pla.set_w(self.w)\n",
    "#         #pla.execute(_X, _y)\n",
    "#         #self.w = pla.get_w()\n",
    "        \n",
    "        \n",
    "#     def predict(self, x):\n",
    "#         return np.sign(np.dot(self.w, x))\n",
    "     \n",
    "#     def getRegressionY(self, regressionX, shift=0):\n",
    "#         return (-self.w[0]+shift - self.w[1]*regressionX) / self.w[2]"
   ]
  },
  {
   "cell_type": "code",
   "execution_count": 5,
   "metadata": {},
   "outputs": [],
   "source": [
    "directory = '../data/filtered_digit_dataset/'\n",
    "filename_x_test = '1x5_x_test.txt'\n",
    "filename_y_test = '1x5_y_test.txt'\n",
    "\n",
    "filename_x_train = '1x5_x_train.txt'\n",
    "filename_y_train = '1x5_y_train.txt'\n",
    "\n",
    "size_train = 500\n",
    "size_test = 250\n",
    "\n",
    "x_test_1x5 = np.loadtxt(directory + filename_x_test, dtype = float)\n",
    "y_test_1x5 = np.loadtxt(directory + filename_y_test, dtype = int)\n",
    "\n",
    "x_test_1x5 = x_test_1x5[:size_test]\n",
    "y_test_1x5 = y_test_1x5[:size_test]\n",
    "\n",
    "\n",
    "x_train_1x5 = np.loadtxt(directory + filename_x_train, dtype = float)\n",
    "y_train_1x5 = np.loadtxt(directory + filename_y_train, dtype = int)\n",
    "\n",
    "x_train_1x5 = x_train_1x5[:size_train]\n",
    "y_train_1x5 = y_train_1x5[:size_train]\n"
   ]
  },
  {
   "cell_type": "code",
   "execution_count": 6,
   "metadata": {},
   "outputs": [
    {
     "ename": "KeyboardInterrupt",
     "evalue": "",
     "output_type": "error",
     "traceback": [
      "\u001b[0;31m---------------------------------------------------------------------------\u001b[0m",
      "\u001b[0;31mKeyboardInterrupt\u001b[0m                         Traceback (most recent call last)",
      "\u001b[0;32m<ipython-input-6-e2c8931df7ec>\u001b[0m in \u001b[0;36m<module>\u001b[0;34m\u001b[0m\n\u001b[1;32m      1\u001b[0m \u001b[0mclf\u001b[0m \u001b[0;34m=\u001b[0m \u001b[0mPocketPLA\u001b[0m\u001b[0;34m(\u001b[0m\u001b[0;34m)\u001b[0m\u001b[0;34m\u001b[0m\u001b[0;34m\u001b[0m\u001b[0m\n\u001b[0;32m----> 2\u001b[0;31m \u001b[0mclf\u001b[0m\u001b[0;34m.\u001b[0m\u001b[0mfit\u001b[0m\u001b[0;34m(\u001b[0m\u001b[0mx_train_1x5\u001b[0m\u001b[0;34m,\u001b[0m \u001b[0my_train_1x5\u001b[0m\u001b[0;34m,\u001b[0m \u001b[0mmax_iter\u001b[0m\u001b[0;34m=\u001b[0m\u001b[0;36m500\u001b[0m\u001b[0;34m)\u001b[0m\u001b[0;34m\u001b[0m\u001b[0;34m\u001b[0m\u001b[0m\n\u001b[0m\u001b[1;32m      3\u001b[0m \u001b[0mpredict_y\u001b[0m \u001b[0;34m=\u001b[0m \u001b[0mclf\u001b[0m\u001b[0;34m.\u001b[0m\u001b[0mpredict\u001b[0m\u001b[0;34m(\u001b[0m\u001b[0mx_test_1x5\u001b[0m\u001b[0;34m)\u001b[0m\u001b[0;34m\u001b[0m\u001b[0;34m\u001b[0m\u001b[0m\n\u001b[1;32m      4\u001b[0m \u001b[0mw\u001b[0m \u001b[0;34m=\u001b[0m \u001b[0mclf\u001b[0m\u001b[0;34m.\u001b[0m\u001b[0mget_w\u001b[0m\u001b[0;34m(\u001b[0m\u001b[0;34m)\u001b[0m\u001b[0;34m\u001b[0m\u001b[0;34m\u001b[0m\u001b[0m\n",
      "\u001b[0;32m/media/italo/Backup/Development/ML/reconhecimento_digitos/src/ml_models/pocketpla.py\u001b[0m in \u001b[0;36mfit\u001b[0;34m(self, x_train, y_train, max_iter, epsilon)\u001b[0m\n\u001b[1;32m     26\u001b[0m                 \u001b[0;32mif\u001b[0m \u001b[0mnp\u001b[0m\u001b[0;34m.\u001b[0m\u001b[0msign\u001b[0m\u001b[0;34m(\u001b[0m\u001b[0mnp\u001b[0m\u001b[0;34m.\u001b[0m\u001b[0mdot\u001b[0m\u001b[0;34m(\u001b[0m\u001b[0mw\u001b[0m\u001b[0;34m,\u001b[0m \u001b[0mx_i\u001b[0m\u001b[0;34m)\u001b[0m\u001b[0;34m)\u001b[0m \u001b[0;34m!=\u001b[0m \u001b[0my_i\u001b[0m\u001b[0;34m:\u001b[0m\u001b[0;34m\u001b[0m\u001b[0;34m\u001b[0m\u001b[0m\n\u001b[1;32m     27\u001b[0m                     \u001b[0mw\u001b[0m \u001b[0;34m=\u001b[0m \u001b[0mw\u001b[0m \u001b[0;34m+\u001b[0m \u001b[0my_i\u001b[0m\u001b[0;34m*\u001b[0m\u001b[0mx_i\u001b[0m\u001b[0;34m\u001b[0m\u001b[0;34m\u001b[0m\u001b[0m\n\u001b[0;32m---> 28\u001b[0;31m                     \u001b[0me_in\u001b[0m \u001b[0;34m=\u001b[0m \u001b[0mself\u001b[0m\u001b[0;34m.\u001b[0m\u001b[0mEin\u001b[0m\u001b[0;34m(\u001b[0m\u001b[0mw\u001b[0m\u001b[0;34m,\u001b[0m\u001b[0mx\u001b[0m\u001b[0;34m,\u001b[0m\u001b[0my\u001b[0m\u001b[0;34m)\u001b[0m\u001b[0;34m\u001b[0m\u001b[0;34m\u001b[0m\u001b[0m\n\u001b[0m\u001b[1;32m     29\u001b[0m \u001b[0;34m\u001b[0m\u001b[0m\n\u001b[1;32m     30\u001b[0m \u001b[0;34m\u001b[0m\u001b[0m\n",
      "\u001b[0;32m/media/italo/Backup/Development/ML/reconhecimento_digitos/src/ml_models/pocketpla.py\u001b[0m in \u001b[0;36mEin\u001b[0;34m(self, w, x, y)\u001b[0m\n\u001b[1;32m     45\u001b[0m         \u001b[0me_in\u001b[0m \u001b[0;34m=\u001b[0m \u001b[0;36m0\u001b[0m\u001b[0;34m\u001b[0m\u001b[0;34m\u001b[0m\u001b[0m\n\u001b[1;32m     46\u001b[0m         \u001b[0;32mfor\u001b[0m \u001b[0mx_i\u001b[0m\u001b[0;34m,\u001b[0m \u001b[0my_i\u001b[0m \u001b[0;32min\u001b[0m \u001b[0mzip\u001b[0m\u001b[0;34m(\u001b[0m\u001b[0mx\u001b[0m\u001b[0;34m,\u001b[0m \u001b[0my\u001b[0m\u001b[0;34m)\u001b[0m\u001b[0;34m:\u001b[0m\u001b[0;34m\u001b[0m\u001b[0;34m\u001b[0m\u001b[0m\n\u001b[0;32m---> 47\u001b[0;31m             \u001b[0mh\u001b[0m \u001b[0;34m=\u001b[0m \u001b[0mnp\u001b[0m\u001b[0;34m.\u001b[0m\u001b[0msign\u001b[0m\u001b[0;34m(\u001b[0m\u001b[0mnp\u001b[0m\u001b[0;34m.\u001b[0m\u001b[0mdot\u001b[0m\u001b[0;34m(\u001b[0m\u001b[0mw\u001b[0m\u001b[0;34m,\u001b[0m \u001b[0mx_i\u001b[0m\u001b[0;34m)\u001b[0m\u001b[0;34m)\u001b[0m\u001b[0;34m\u001b[0m\u001b[0;34m\u001b[0m\u001b[0m\n\u001b[0m\u001b[1;32m     48\u001b[0m             \u001b[0;32mif\u001b[0m \u001b[0mh\u001b[0m \u001b[0;34m!=\u001b[0m \u001b[0my_i\u001b[0m\u001b[0;34m:\u001b[0m\u001b[0;34m\u001b[0m\u001b[0;34m\u001b[0m\u001b[0m\n\u001b[1;32m     49\u001b[0m                 \u001b[0me_in\u001b[0m \u001b[0;34m+=\u001b[0m \u001b[0;36m1\u001b[0m\u001b[0;34m\u001b[0m\u001b[0;34m\u001b[0m\u001b[0m\n",
      "\u001b[0;32m<__array_function__ internals>\u001b[0m in \u001b[0;36mdot\u001b[0;34m(*args, **kwargs)\u001b[0m\n",
      "\u001b[0;31mKeyboardInterrupt\u001b[0m: "
     ]
    }
   ],
   "source": [
    "clf = PocketPLA()\n",
    "clf.fit(x_train_1x5, y_train_1x5, max_iter=500)\n",
    "predict_y = clf.predict(x_test_1x5)\n",
    "w = clf.get_w()\n"
   ]
  },
  {
   "cell_type": "code",
   "execution_count": null,
   "metadata": {},
   "outputs": [
    {
     "data": {
      "text/plain": [
       "array([2985.        ,  -25.85882353,  -18.94117647])"
      ]
     },
     "execution_count": 8,
     "metadata": {},
     "output_type": "execute_result"
    }
   ],
   "source": [
    "w"
   ]
  },
  {
   "cell_type": "code",
   "execution_count": null,
   "metadata": {},
   "outputs": [
    {
     "data": {
      "text/plain": [
       "0.852"
      ]
     },
     "execution_count": 9,
     "metadata": {},
     "output_type": "execute_result"
    }
   ],
   "source": [
    "clf.score(x_test_1x5, y_test_1x5)"
   ]
  },
  {
   "cell_type": "code",
   "execution_count": null,
   "metadata": {},
   "outputs": [],
   "source": [
    "predict_y = clf.predict(x_test_1x5)\n"
   ]
  },
  {
   "cell_type": "code",
   "execution_count": null,
   "metadata": {},
   "outputs": [
    {
     "name": "stdout",
     "output_type": "stream",
     "text": [
      "              precision    recall  f1-score   support\n",
      "\n",
      "          -1       0.89      0.80      0.84       122\n",
      "           1       0.82      0.91      0.86       128\n",
      "\n",
      "    accuracy                           0.85       250\n",
      "   macro avg       0.86      0.85      0.85       250\n",
      "weighted avg       0.86      0.85      0.85       250\n",
      "\n",
      "[[ 97  25]\n",
      " [ 12 116]]\n"
     ]
    }
   ],
   "source": [
    "print(classification_report(y_test_1x5, predict_y))\n",
    "print(confusion_matrix(y_test_1x5, predict_y))"
   ]
  },
  {
   "cell_type": "code",
   "execution_count": null,
   "metadata": {},
   "outputs": [
    {
     "data": {
      "text/plain": [
       "[<matplotlib.lines.Line2D at 0x7f94df0d4280>]"
      ]
     },
     "execution_count": 12,
     "metadata": {},
     "output_type": "execute_result"
    },
    {
     "data": {
      "image/png": "[encoded data removed]",
      "text/plain": [
       "<Figure size 432x288 with 1 Axes>"
      ]
     },
     "metadata": {
      "needs_background": "light"
     },
     "output_type": "display_data"
    }
   ],
   "source": [
    "plt.scatter(x_test_1x5[:, 0], x_test_1x5[:, 1], c=list(np.sign(y_test_1x5).ravel()) )\n",
    "x = np.linspace(-1, 250, 1000)\n",
    "\n",
    "\n",
    "size = 250\n",
    "plt.ylim(-50, size)\n",
    "\n",
    "\n",
    "plt.plot(x, (-w[0] - w[1]*x) / w[2], color='darkred')\n",
    "# plt.plot(x, (-clf.intercept_-clf.coef_[0]*x)/clf.coef_[1], color='darkred')\n"
   ]
  },
  {
   "cell_type": "code",
   "execution_count": null,
   "metadata": {},
   "outputs": [],
   "source": [
    "clf = LinearRegression()\n",
    "clf.execute(x_train_1x5, y_train_1x5)\n",
    "predict_y = clf.predict(x_test_1x5)\n",
    "w = clf.get_w()"
   ]
  },
  {
   "cell_type": "code",
   "execution_count": null,
   "metadata": {},
   "outputs": [
    {
     "data": {
      "text/plain": [
       "array([ 1.97705491, -0.01544544, -0.01533181])"
      ]
     },
     "execution_count": 14,
     "metadata": {},
     "output_type": "execute_result"
    }
   ],
   "source": [
    "w"
   ]
  },
  {
   "cell_type": "code",
   "execution_count": null,
   "metadata": {},
   "outputs": [
    {
     "data": {
      "text/plain": [
       "[<matplotlib.lines.Line2D at 0x7f94d7073850>]"
      ]
     },
     "execution_count": 15,
     "metadata": {},
     "output_type": "execute_result"
    },
    {
     "data": {
      "image/png": "[encoded data removed]",
      "text/plain": [
       "<Figure size 432x288 with 1 Axes>"
      ]
     },
     "metadata": {
      "needs_background": "light"
     },
     "output_type": "display_data"
    }
   ],
   "source": [
    "plt.scatter(x_test_1x5[:, 0], x_test_1x5[:, 1], c=list(np.sign(y_test_1x5).ravel()) )\n",
    "x = np.linspace(-1, 250, 1000)\n",
    "\n",
    "\n",
    "size = 250\n",
    "plt.ylim(-50, size)\n",
    "xOri = [-1, +1]\n",
    "yOri = [clf.getOriginalY(xOri[0]), clf.getOriginalY(xOri[1])]\n",
    "\n",
    "plt.plot(x, (-w[0] - w[1]*x) / w[2], color='darkred')\n"
   ]
  },
  {
   "cell_type": "code",
   "execution_count": 18,
   "metadata": {},
   "outputs": [],
   "source": [
    "import numpy as np\n",
    "from numpy import linalg as LA\n",
    "import random\n",
    "\n",
    "\n",
    "class LogisticRegression:\n",
    "    def __init__(self, eta=0.1, tmax=30, batch_size=32, lam=0):\n",
    "        self.eta = eta\n",
    "        self.tmax = tmax\n",
    "        self.batch_size = batch_size\n",
    "        self.lam = lam\n",
    "\n",
    "    # Infere o vetor w da funçao hipotese\n",
    "    #Executa a minimizao do erro de entropia cruzada pelo algoritmo gradiente de descida\n",
    "    def fit(self, _X, _y):\n",
    "        self.w = []    \n",
    "        X = np.concatenate((np.ones((len(_X),1), dtype=np.float128), np.array(_X, dtype=np.float128)), axis=1)\n",
    "        y = np.array(_y, dtype=np.float128)\n",
    "        \n",
    "        d = X.shape[1]\n",
    "        N = X.shape[0]\n",
    "        w = np.zeros(d, dtype=np.float128)\n",
    "    \n",
    "        \n",
    "        for i in range(self.tmax):\n",
    "            vsoma = np.zeros(d, dtype=np.float128)\n",
    "\n",
    "            #Escolhendo o lote de entradas\n",
    "            if self.batch_size < N:\n",
    "                indices = random.sample(range(N),self.batch_size)\n",
    "                batchX = [X[index] for index in indices]\n",
    "                batchY = [y[index] for index in indices]\n",
    "            else:\n",
    "                batchX = X\n",
    "                batchY = y\n",
    "\n",
    "            #computando o gradiente no ponto atual\n",
    "            for xn, yn in zip(batchX, batchY):\n",
    "                vsoma += (yn * xn) / (1 + np.exp((yn * w).T @ xn))\n",
    "        \n",
    "            gt = vsoma/self.batch_size \n",
    "            if self.lam != 0:\n",
    "              gt += 2*self.lam * w\n",
    "            \n",
    "            #Condicao de parada: se ||deltaF|| < epsilon (0.0001)\n",
    "            if LA.norm(gt) < 0.0001 :\n",
    "                break\n",
    "            w = w + (self.eta*gt)\n",
    "\n",
    "        self.w = w\n",
    "\n",
    "    #funcao hipotese inferida pela regressa logistica  \n",
    "    def predict_prob(self, X):\n",
    "        return [(1 / (1 + np.exp(-(self.w[0] + self.w[1:].T @ x)))) for x in X]\n",
    "\n",
    "    #Predicao por classificação linear\n",
    "    def predict(self, X):\n",
    "        return [1 if (1 / (1 + np.exp(-(self.w[0] + self.w[1:].T @ x)))) >= 0.5 \n",
    "                else -1 for x in X]\n",
    "\n",
    "    def getW(self):\n",
    "        return self.w\n",
    "\n",
    "    def getRegressionY(self, regressionX, shift=0):\n",
    "        return (-self.w[0]+shift - self.w[1]*regressionX) / self.w[2]"
   ]
  },
  {
   "cell_type": "code",
   "execution_count": 19,
   "metadata": {},
   "outputs": [],
   "source": [
    "clf = LogisticRegression(tmax=50000)\n",
    "clf.fit(x_train_1x5, y_train_1x5)\n",
    "predict_y = clf.predict(x_test_1x5)\n",
    "predict_y_prob = clf.predict_prob(x_test_1x5)\n",
    "\n",
    "\n",
    "w = clf.getW()"
   ]
  },
  {
   "cell_type": "code",
   "execution_count": 16,
   "metadata": {},
   "outputs": [
    {
     "name": "stdout",
     "output_type": "stream",
     "text": [
      "              precision    recall  f1-score   support\n",
      "\n",
      "          -1       0.85      0.84      0.84       122\n",
      "           1       0.85      0.86      0.85       128\n",
      "\n",
      "    accuracy                           0.85       250\n",
      "   macro avg       0.85      0.85      0.85       250\n",
      "weighted avg       0.85      0.85      0.85       250\n",
      "\n",
      "[[102  20]\n",
      " [ 18 110]]\n"
     ]
    }
   ],
   "source": [
    "print(classification_report(y_test_1x5, predict_y))\n",
    "print(confusion_matrix(y_test_1x5, predict_y))"
   ]
  },
  {
   "cell_type": "code",
   "execution_count": 17,
   "metadata": {},
   "outputs": [
    {
     "data": {
      "text/plain": [
       "[<matplotlib.lines.Line2D at 0x7fbdceb8c490>]"
      ]
     },
     "execution_count": 17,
     "metadata": {},
     "output_type": "execute_result"
    },
    {
     "data": {
      "image/png": "[encoded data removed]",
      "text/plain": [
       "<Figure size 432x288 with 1 Axes>"
      ]
     },
     "metadata": {
      "needs_background": "light"
     },
     "output_type": "display_data"
    }
   ],
   "source": [
    "plt.scatter(x_test_1x5[:, 0], x_test_1x5[:, 1], c=list(np.sign(y_test_1x5).ravel()) )\n",
    "x = np.linspace(-1, 250, 1000)\n",
    "\n",
    "\n",
    "size = 250\n",
    "plt.ylim(-50, size)\n",
    "\n",
    "\n",
    "plt.plot(x, clf.getRegressionY(x), color='darkred')\n"
   ]
  },
  {
   "cell_type": "code",
   "execution_count": null,
   "metadata": {},
   "outputs": [
    {
     "name": "stdout",
     "output_type": "stream",
     "text": [
      "label =  0\n",
      "0.9\n",
      "label =  1\n",
      "0.91\n",
      "label =  2\n",
      "0.859\n",
      "label =  3\n",
      "0.869\n",
      "label =  4\n",
      "0.826\n",
      "label =  5\n"
     ]
    },
    {
     "ename": "KeyboardInterrupt",
     "evalue": "",
     "output_type": "error",
     "traceback": [
      "\u001b[0;31m---------------------------------------------------------------------------\u001b[0m",
      "\u001b[0;31mKeyboardInterrupt\u001b[0m                         Traceback (most recent call last)",
      "\u001b[0;32m<ipython-input-20-57b32eb9d56e>\u001b[0m in \u001b[0;36m<module>\u001b[0;34m\u001b[0m\n\u001b[1;32m     12\u001b[0m \u001b[0;34m\u001b[0m\u001b[0m\n\u001b[1;32m     13\u001b[0m     \u001b[0mclf\u001b[0m \u001b[0;34m=\u001b[0m \u001b[0mPocketPLA\u001b[0m\u001b[0;34m(\u001b[0m\u001b[0;34m)\u001b[0m\u001b[0;34m\u001b[0m\u001b[0;34m\u001b[0m\u001b[0m\n\u001b[0;32m---> 14\u001b[0;31m     \u001b[0mclf\u001b[0m\u001b[0;34m.\u001b[0m\u001b[0mfit\u001b[0m\u001b[0;34m(\u001b[0m\u001b[0mx_train\u001b[0m\u001b[0;34m,\u001b[0m \u001b[0my_train\u001b[0m\u001b[0;34m,\u001b[0m \u001b[0mmax_iter\u001b[0m\u001b[0;34m=\u001b[0m\u001b[0;36m500\u001b[0m\u001b[0;34m)\u001b[0m\u001b[0;34m\u001b[0m\u001b[0;34m\u001b[0m\u001b[0m\n\u001b[0m\u001b[1;32m     15\u001b[0m     \u001b[0mpredict_y\u001b[0m \u001b[0;34m=\u001b[0m \u001b[0mclf\u001b[0m\u001b[0;34m.\u001b[0m\u001b[0mpredict\u001b[0m\u001b[0;34m(\u001b[0m\u001b[0mx_test\u001b[0m\u001b[0;34m)\u001b[0m\u001b[0;34m\u001b[0m\u001b[0;34m\u001b[0m\u001b[0m\n\u001b[1;32m     16\u001b[0m     \u001b[0mw\u001b[0m \u001b[0;34m=\u001b[0m \u001b[0mclf\u001b[0m\u001b[0;34m.\u001b[0m\u001b[0mget_w\u001b[0m\u001b[0;34m(\u001b[0m\u001b[0;34m)\u001b[0m\u001b[0;34m\u001b[0m\u001b[0;34m\u001b[0m\u001b[0m\n",
      "\u001b[0;32m/media/italo/Backup/Development/ML/reconhecimento_digitos/src/ml_models/pocketpla.py\u001b[0m in \u001b[0;36mfit\u001b[0;34m(self, x_train, y_train, max_iter, epsilon)\u001b[0m\n\u001b[1;32m     26\u001b[0m                 \u001b[0;32mif\u001b[0m \u001b[0mnp\u001b[0m\u001b[0;34m.\u001b[0m\u001b[0msign\u001b[0m\u001b[0;34m(\u001b[0m\u001b[0mnp\u001b[0m\u001b[0;34m.\u001b[0m\u001b[0mdot\u001b[0m\u001b[0;34m(\u001b[0m\u001b[0mw\u001b[0m\u001b[0;34m,\u001b[0m \u001b[0mx_i\u001b[0m\u001b[0;34m)\u001b[0m\u001b[0;34m)\u001b[0m \u001b[0;34m!=\u001b[0m \u001b[0my_i\u001b[0m\u001b[0;34m:\u001b[0m\u001b[0;34m\u001b[0m\u001b[0;34m\u001b[0m\u001b[0m\n\u001b[1;32m     27\u001b[0m                     \u001b[0mw\u001b[0m \u001b[0;34m=\u001b[0m \u001b[0mw\u001b[0m \u001b[0;34m+\u001b[0m \u001b[0my_i\u001b[0m\u001b[0;34m*\u001b[0m\u001b[0mx_i\u001b[0m\u001b[0;34m\u001b[0m\u001b[0;34m\u001b[0m\u001b[0m\n\u001b[0;32m---> 28\u001b[0;31m                     \u001b[0me_in\u001b[0m \u001b[0;34m=\u001b[0m \u001b[0mself\u001b[0m\u001b[0;34m.\u001b[0m\u001b[0mEin\u001b[0m\u001b[0;34m(\u001b[0m\u001b[0mw\u001b[0m\u001b[0;34m,\u001b[0m\u001b[0mx\u001b[0m\u001b[0;34m,\u001b[0m\u001b[0my\u001b[0m\u001b[0;34m)\u001b[0m\u001b[0;34m\u001b[0m\u001b[0;34m\u001b[0m\u001b[0m\n\u001b[0m\u001b[1;32m     29\u001b[0m \u001b[0;34m\u001b[0m\u001b[0m\n\u001b[1;32m     30\u001b[0m \u001b[0;34m\u001b[0m\u001b[0m\n",
      "\u001b[0;32m/media/italo/Backup/Development/ML/reconhecimento_digitos/src/ml_models/pocketpla.py\u001b[0m in \u001b[0;36mEin\u001b[0;34m(self, w, x, y)\u001b[0m\n\u001b[1;32m     45\u001b[0m         \u001b[0me_in\u001b[0m \u001b[0;34m=\u001b[0m \u001b[0;36m0\u001b[0m\u001b[0;34m\u001b[0m\u001b[0;34m\u001b[0m\u001b[0m\n\u001b[1;32m     46\u001b[0m         \u001b[0;32mfor\u001b[0m \u001b[0mx_i\u001b[0m\u001b[0;34m,\u001b[0m \u001b[0my_i\u001b[0m \u001b[0;32min\u001b[0m \u001b[0mzip\u001b[0m\u001b[0;34m(\u001b[0m\u001b[0mx\u001b[0m\u001b[0;34m,\u001b[0m \u001b[0my\u001b[0m\u001b[0;34m)\u001b[0m\u001b[0;34m:\u001b[0m\u001b[0;34m\u001b[0m\u001b[0;34m\u001b[0m\u001b[0m\n\u001b[0;32m---> 47\u001b[0;31m             \u001b[0mh\u001b[0m \u001b[0;34m=\u001b[0m \u001b[0mnp\u001b[0m\u001b[0;34m.\u001b[0m\u001b[0msign\u001b[0m\u001b[0;34m(\u001b[0m\u001b[0mnp\u001b[0m\u001b[0;34m.\u001b[0m\u001b[0mdot\u001b[0m\u001b[0;34m(\u001b[0m\u001b[0mw\u001b[0m\u001b[0;34m,\u001b[0m \u001b[0mx_i\u001b[0m\u001b[0;34m)\u001b[0m\u001b[0;34m)\u001b[0m\u001b[0;34m\u001b[0m\u001b[0;34m\u001b[0m\u001b[0m\n\u001b[0m\u001b[1;32m     48\u001b[0m             \u001b[0;32mif\u001b[0m \u001b[0mh\u001b[0m \u001b[0;34m!=\u001b[0m \u001b[0my_i\u001b[0m\u001b[0;34m:\u001b[0m\u001b[0;34m\u001b[0m\u001b[0;34m\u001b[0m\u001b[0m\n\u001b[1;32m     49\u001b[0m                 \u001b[0me_in\u001b[0m \u001b[0;34m+=\u001b[0m \u001b[0;36m1\u001b[0m\u001b[0;34m\u001b[0m\u001b[0;34m\u001b[0m\u001b[0m\n",
      "\u001b[0;31mKeyboardInterrupt\u001b[0m: "
     ]
    }
   ],
   "source": [
    "\n",
    "W = []\n",
    "\n",
    "\n",
    "for l in labels:\n",
    "    print('label = ', l)\n",
    "    x_test = X_tests[l]\n",
    "    y_test = Y_tests[l]\n",
    "\n",
    "    x_train = X_trains[l]\n",
    "    y_train = Y_trains[l]\n",
    "\n",
    "\n",
    "    clf = PocketPLA()\n",
    "    clf.fit(x_train, y_train, max_iter=500)\n",
    "    predict_y = clf.predict(x_test)\n",
    "    w = clf.get_w()\n",
    "\n",
    "    print(clf.score(x_test, y_test))\n",
    "\n",
    "    W.append(w)\n",
    "\n"
   ]
  },
  {
   "cell_type": "code",
   "execution_count": null,
   "metadata": {},
   "outputs": [],
   "source": [
    "def predict(x_test, w):\n",
    "    predict_y = np.zeros(len(x_test))\n",
    "    for i in range(len(x_test)):\n",
    "            \n",
    "        g = np.sign(w[0] + w[1]*x_test[i][0] + w[2]*x_test[i][1])\n",
    "            \n",
    "        predict_y[i] = g\n",
    "\n",
    "        \n",
    "    return predict_y\n",
    "\n",
    "\n",
    "def score(X, Y):\n",
    "\n",
    "    return accuracy_score(Y, predict(X))\n",
    "    "
   ]
  },
  {
   "cell_type": "code",
   "execution_count": null,
   "metadata": {},
   "outputs": [
    {
     "name": "stdout",
     "output_type": "stream",
     "text": [
      "              precision    recall  f1-score   support\n",
      "\n",
      "          -1       0.90      1.00      0.95       895\n",
      "           1       0.69      0.09      0.15       105\n",
      "\n",
      "    accuracy                           0.90      1000\n",
      "   macro avg       0.80      0.54      0.55      1000\n",
      "weighted avg       0.88      0.90      0.86      1000\n",
      "\n",
      "[[891   4]\n",
      " [ 96   9]]\n"
     ]
    }
   ],
   "source": [
    "i = 0\n",
    "\n",
    "x_test = X_tests[i]\n",
    "y_test = Y_tests[i]\n",
    "predict_y = predict(x_test, W[i])\n",
    "\n",
    "\n",
    "\n",
    "print(classification_report(y_test, predict_y))\n",
    "print(confusion_matrix(y_test, predict_y))"
   ]
  },
  {
   "cell_type": "code",
   "execution_count": null,
   "metadata": {},
   "outputs": [],
   "source": [
    "def one_vs_rest(X_trains, Y_trains, W):\n",
    "    pass"
   ]
  },
  {
   "cell_type": "code",
   "execution_count": null,
   "metadata": {},
   "outputs": [
    {
     "data": {
      "text/plain": [
       "[<matplotlib.lines.Line2D at 0x7f71317c99d0>]"
      ]
     },
     "execution_count": 13,
     "metadata": {},
     "output_type": "execute_result"
    },
    {
     "data": {
      "image/png": "[encoded data removed]",
      "text/plain": [
       "<Figure size 432x288 with 1 Axes>"
      ]
     },
     "metadata": {
      "needs_background": "light"
     },
     "output_type": "display_data"
    }
   ],
   "source": [
    "l = 1\n",
    "x_test = X_tests[l]\n",
    "y_test = Y_tests[l]\n",
    "\n",
    "x_train = X_trains[l]\n",
    "y_train = Y_trains[l]\n",
    "\n",
    "w = W[l]\n",
    "\n",
    "plt.scatter(x_test[:, 0], x_test[:, 1], c=list(np.sign(y_test).ravel()) )\n",
    "x = np.linspace(-1, 250, 1000)\n",
    "\n",
    "\n",
    "size = 250\n",
    "plt.ylim(-50, size)\n",
    "\n",
    "\n",
    "plt.plot(x, (-w[0] - w[1]*x) / w[2], color='darkred')\n",
    "# plt.plot(x, (-clf.intercept_-clf.coef_[0]*x)/clf.coef_[1], color='darkred')\n"
   ]
  },
  {
   "cell_type": "code",
   "execution_count": null,
   "metadata": {},
   "outputs": [],
   "source": [
    "# clf = PocketPLA()\n",
    "# clf.execute(x_train, y_train)\n",
    "# w = clf.get_w()\n",
    "\n",
    "# clf = PLA(x_train, y_train)\n",
    "# clf\n",
    "\n",
    "\n",
    "# clf2 = PocketPLA()\n",
    "# clf2.fit(x_train, y_train)\n",
    "# predict_y = clf.predict(x_test)\n",
    "# w = clf.get_w()\n",
    "# clf.score(x_test, y_test)"
   ]
  },
  {
   "cell_type": "code",
   "execution_count": null,
   "metadata": {},
   "outputs": [],
   "source": [
    "clf2 = PocketPLA()\n",
    "clf2.fit(x_train, y_train, max_iter=1000)"
   ]
  },
  {
   "cell_type": "code",
   "execution_count": null,
   "metadata": {},
   "outputs": [
    {
     "ename": "NameError",
     "evalue": "name 'clf1' is not defined",
     "output_type": "error",
     "traceback": [
      "\u001b[0;31m---------------------------------------------------------------------------\u001b[0m",
      "\u001b[0;31mNameError\u001b[0m                                 Traceback (most recent call last)",
      "\u001b[0;32m<ipython-input-16-7a710a1bd287>\u001b[0m in \u001b[0;36m<module>\u001b[0;34m\u001b[0m\n\u001b[1;32m      2\u001b[0m \u001b[0;34m\u001b[0m\u001b[0m\n\u001b[1;32m      3\u001b[0m \u001b[0;34m\u001b[0m\u001b[0m\n\u001b[0;32m----> 4\u001b[0;31m \u001b[0mw1\u001b[0m \u001b[0;34m=\u001b[0m \u001b[0mclf1\u001b[0m\u001b[0;34m.\u001b[0m\u001b[0mget_w\u001b[0m\u001b[0;34m(\u001b[0m\u001b[0;34m)\u001b[0m\u001b[0;34m\u001b[0m\u001b[0;34m\u001b[0m\u001b[0m\n\u001b[0m\u001b[1;32m      5\u001b[0m \u001b[0mprint\u001b[0m\u001b[0;34m(\u001b[0m\u001b[0mw1\u001b[0m\u001b[0;34m)\u001b[0m\u001b[0;34m\u001b[0m\u001b[0;34m\u001b[0m\u001b[0m\n\u001b[1;32m      6\u001b[0m \u001b[0;34m\u001b[0m\u001b[0m\n",
      "\u001b[0;31mNameError\u001b[0m: name 'clf1' is not defined"
     ]
    }
   ],
   "source": [
    "clf2.score(x_test, y_test)\n",
    "\n",
    "\n",
    "w1 = clf1.get_w()\n",
    "print(w1)\n",
    "\n",
    "w2 = clf2.get_w()\n",
    "print(w2)"
   ]
  },
  {
   "cell_type": "code",
   "execution_count": null,
   "metadata": {},
   "outputs": [],
   "source": [
    "predict_y = clf2.predict(x_test)\n",
    "\n",
    "\n",
    "\n",
    "print(classification_report(y_test, predict_y))\n",
    "print(confusion_matrix(y_test, predict_y))"
   ]
  },
  {
   "cell_type": "code",
   "execution_count": null,
   "metadata": {},
   "outputs": [],
   "source": [
    "plt.scatter(x_test[:, 0], x_test[:, 1], c=list(np.sign(y_test).ravel()) )\n",
    "x = np.linspace(-25, 250, 100)\n",
    "\n",
    "\n",
    "size = 250\n",
    "plt.ylim(-50, size)\n",
    "\n",
    "plt.plot(x, clf1.getOriginalY(x), color='darkred')\n",
    "plt.plot(x, (-w2[0] - w2[1]*x) / w2[2], color='red')\n",
    "\n",
    "# plt.plot(x, clf.h(x), color='darkred')\n",
    "\n",
    "# plt.plot(x, (-clf.intercept_-clf.coef_[0]*x)/clf.coef_[1], color='darkred')\n"
   ]
  }
 ],
 "metadata": {
  "interpreter": {
   "hash": "df0893f56f349688326838aaeea0de204df53a132722cbd565e54b24a8fec5f6"
  },
  "kernelspec": {
   "display_name": "Python 3.8.10 64-bit",
   "language": "python",
   "name": "python3"
  },
  "language_info": {
   "codemirror_mode": {
    "name": "ipython",
    "version": 3
   },
   "file_extension": ".py",
   "mimetype": "text/x-python",
   "name": "python",
   "nbconvert_exporter": "python",
   "pygments_lexer": "ipython3",
   "version": "3.8.10"
  },
  "orig_nbformat": 4
 },
 "nbformat": 4,
 "nbformat_minor": 2
}
