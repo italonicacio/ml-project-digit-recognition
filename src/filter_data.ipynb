{
 "cells": [
  {
   "cell_type": "code",
   "execution_count": 1,
   "metadata": {},
   "outputs": [],
   "source": [
    "import pandas as pd\n",
    "import numpy as np\n",
    "\n",
    "from filter_functions import *\n",
    "\n",
    "\n",
    "test_filename = '../data/redu_test.csv'\n",
    "train_filename = '../data/redu_train.csv'\n"
   ]
  },
  {
   "cell_type": "code",
   "execution_count": 2,
   "metadata": {},
   "outputs": [],
   "source": [
    "test = pd.read_csv(test_filename)\n",
    "train = pd.read_csv(train_filename)\n"
   ]
  },
  {
   "cell_type": "code",
   "execution_count": 3,
   "metadata": {},
   "outputs": [
    {
     "name": "stdout",
     "output_type": "stream",
     "text": [
      "     label   intensity   symmetry\n",
      "0        0  174.937255  17.086275\n",
      "1        4   58.921569  40.741176\n",
      "2        0  200.364706  29.109804\n",
      "3        5  109.490196  66.917647\n",
      "4        1   34.839216  27.090196\n",
      "..     ...         ...        ...\n",
      "995      6  103.466667  74.556863\n",
      "996      8  144.298039  86.878431\n",
      "997      1   48.419608  29.188235\n",
      "998      8   57.494118  40.678431\n",
      "999      8  115.635294  74.686275\n",
      "\n",
      "[1000 rows x 3 columns]\n",
      "     label   intensity   symmetry\n",
      "0        1   65.290196  55.360784\n",
      "1        1   52.647059   9.478431\n",
      "2        0   90.435294  52.231373\n",
      "3        7   67.262745  40.549020\n",
      "4        3   95.247059  46.054902\n",
      "..     ...         ...        ...\n",
      "495      1   40.360784  23.968627\n",
      "496      1   71.274510  60.764706\n",
      "497      2  158.835294  77.698039\n",
      "498      5  108.345098  44.674510\n",
      "499      1   79.890196  47.772549\n",
      "\n",
      "[500 rows x 3 columns]\n"
     ]
    }
   ],
   "source": [
    "values = [0, 1, 2, 3, 4, 5, 6, 7, 8 ,9]\n",
    "# values = [1, 7]\n",
    "# values = [1, 5]\n",
    "\n",
    "filtered_test_1x5 = filter_label(test, [1, 5])\n",
    "filtered_train_1x5 = filter_label(train, [1, 5])\n",
    "\n",
    "\n",
    "filtered_test = filter_label(test, values=values)\n",
    "filtered_test = filtered_test[:1000]\n",
    "print(filtered_test)\n",
    "\n",
    "filtered_train = filter_label(train, values=values)\n",
    "filtered_train = filtered_train[:500]\n",
    "print(filtered_train)\n"
   ]
  },
  {
   "cell_type": "code",
   "execution_count": 4,
   "metadata": {},
   "outputs": [],
   "source": [
    "principal_label = 1\n",
    "\n",
    "x_test, y_test = generate_x_y(filtered_test, principal_label=principal_label)\n",
    "x_train, y_train = generate_x_y(filtered_train, principal_label=principal_label)\n",
    "\n",
    "x_test_1x5, y_test_1x5 = generate_x_y(filtered_test_1x5, principal_label=principal_label)\n",
    "x_train_1x5, y_train_1x5 = generate_x_y(filtered_train_1x5, principal_label=principal_label)"
   ]
  },
  {
   "cell_type": "code",
   "execution_count": 5,
   "metadata": {},
   "outputs": [],
   "source": [
    "directory = '../data/filtered_digit_dataset/'\n",
    "filename_x_test = '1x5_x_test.txt'\n",
    "filename_y_test = '1x5_y_test.txt'\n",
    "\n",
    "filename_x_train = '1x5_x_train.txt'\n",
    "filename_y_train = '1x5_y_train.txt'\n",
    "\n",
    "\n",
    "np.savetxt(directory+filename_x_test, x_test_1x5)\n",
    "np.savetxt(directory+filename_y_test, y_test_1x5, fmt='%d')\n",
    "\n",
    "np.savetxt(directory+filename_x_train, x_train_1x5)\n",
    "np.savetxt(directory+filename_y_train, y_train_1x5, fmt='%d')\n",
    "\n"
   ]
  },
  {
   "cell_type": "code",
   "execution_count": 6,
   "metadata": {},
   "outputs": [
    {
     "name": "stdout",
     "output_type": "stream",
     "text": [
      "label =  0\n",
      "label =  1\n",
      "label =  2\n",
      "label =  3\n",
      "label =  4\n",
      "label =  5\n",
      "label =  6\n",
      "label =  7\n",
      "label =  8\n",
      "      label   intensity   symmetry\n",
      "7         8   95.458824  63.082353\n",
      "9         9   86.580392  50.345098\n",
      "11        8   99.843137  79.278431\n",
      "12        9   73.521569  31.521569\n",
      "31        9   82.156863  38.878431\n",
      "...     ...         ...        ...\n",
      "5169      8  133.819608  27.968627\n",
      "5175      8  141.752941  31.298039\n",
      "5182      8   86.478431  61.388235\n",
      "5184      8   68.505882  46.670588\n",
      "5185      8  148.960784  59.282353\n",
      "\n",
      "[1000 rows x 3 columns]\n",
      "[ 1 -1  1 -1 -1 -1 -1 -1 -1  1 -1 -1  1 -1  1 -1 -1  1 -1 -1  1 -1 -1 -1\n",
      "  1  1 -1  1 -1 -1 -1 -1  1 -1 -1  1 -1 -1  1  1 -1  1 -1  1 -1  1 -1  1\n",
      "  1 -1  1  1 -1 -1 -1  1  1 -1 -1  1  1  1 -1 -1  1  1 -1 -1 -1  1  1  1\n",
      "  1  1 -1 -1  1 -1 -1 -1 -1 -1 -1  1 -1 -1 -1 -1 -1 -1  1 -1  1 -1 -1 -1\n",
      " -1 -1 -1 -1  1  1  1 -1 -1  1 -1 -1  1 -1  1 -1  1  1  1 -1 -1 -1 -1  1\n",
      " -1  1 -1 -1 -1  1  1 -1  1 -1  1 -1  1 -1 -1 -1 -1 -1 -1 -1 -1 -1  1 -1\n",
      " -1  1  1 -1 -1 -1  1 -1  1 -1 -1  1  1 -1 -1 -1  1 -1  1  1  1  1  1 -1\n",
      "  1 -1  1  1  1 -1  1  1  1 -1 -1  1 -1 -1  1  1 -1 -1 -1  1  1  1  1 -1\n",
      "  1  1  1 -1  1  1 -1  1  1  1  1 -1  1 -1 -1 -1  1 -1 -1 -1  1 -1 -1  1\n",
      "  1  1  1  1 -1 -1 -1 -1  1  1 -1 -1 -1 -1 -1  1  1 -1 -1  1  1 -1  1  1\n",
      " -1  1 -1  1  1 -1 -1 -1 -1 -1 -1  1 -1  1 -1 -1 -1 -1 -1 -1  1  1 -1  1\n",
      "  1  1  1  1 -1  1  1 -1  1 -1  1 -1  1  1 -1 -1 -1 -1  1  1  1 -1  1  1\n",
      "  1  1  1 -1  1 -1  1  1  1  1  1  1 -1  1  1  1 -1  1 -1 -1 -1 -1 -1  1\n",
      "  1  1 -1 -1 -1 -1 -1 -1 -1 -1 -1  1 -1  1  1  1 -1  1  1 -1 -1 -1 -1  1\n",
      " -1 -1  1  1  1 -1  1  1  1 -1  1  1 -1  1 -1  1  1  1 -1 -1 -1 -1  1  1\n",
      "  1 -1  1  1  1 -1 -1 -1 -1  1 -1  1  1 -1 -1  1  1 -1  1  1 -1  1  1  1\n",
      "  1  1  1  1 -1 -1 -1 -1 -1 -1 -1  1  1  1  1  1  1 -1 -1 -1 -1  1 -1 -1\n",
      "  1  1  1 -1  1 -1  1 -1 -1 -1 -1  1 -1  1 -1  1  1  1  1  1  1  1 -1 -1\n",
      "  1  1 -1  1  1 -1 -1  1 -1  1 -1 -1  1 -1  1  1 -1 -1  1 -1  1 -1  1  1\n",
      " -1  1  1 -1 -1  1  1  1  1 -1 -1  1  1  1  1  1 -1 -1  1 -1  1  1 -1 -1\n",
      "  1 -1  1 -1 -1 -1  1 -1  1 -1  1 -1  1  1 -1  1  1 -1  1 -1 -1 -1 -1  1\n",
      "  1 -1  1  1 -1  1  1  1 -1  1  1 -1  1  1 -1 -1 -1 -1  1 -1 -1  1 -1 -1\n",
      " -1 -1 -1  1 -1  1  1  1  1 -1  1  1  1  1  1 -1  1 -1  1 -1 -1 -1  1 -1\n",
      "  1 -1 -1 -1 -1  1  1  1  1 -1 -1  1 -1  1 -1 -1  1 -1 -1  1 -1  1 -1  1\n",
      " -1 -1  1  1 -1  1  1 -1 -1  1  1  1 -1 -1  1 -1 -1 -1  1 -1 -1 -1  1 -1\n",
      "  1  1 -1  1  1 -1  1 -1  1 -1  1  1 -1 -1  1 -1  1 -1 -1 -1  1 -1 -1 -1\n",
      " -1 -1  1  1 -1 -1 -1  1  1  1 -1 -1  1  1 -1 -1  1 -1  1 -1 -1 -1  1 -1\n",
      " -1  1  1  1 -1  1 -1 -1  1  1  1 -1  1  1  1  1 -1  1  1 -1  1  1 -1 -1\n",
      " -1 -1  1  1  1  1  1  1  1  1  1  1  1 -1  1 -1 -1 -1  1 -1 -1 -1  1 -1\n",
      " -1 -1 -1 -1  1 -1  1 -1 -1  1  1 -1 -1  1 -1  1  1  1  1 -1  1  1  1 -1\n",
      " -1 -1 -1 -1 -1 -1  1  1 -1 -1  1  1 -1 -1  1  1 -1 -1 -1  1 -1  1 -1  1\n",
      " -1  1 -1  1 -1  1 -1 -1  1 -1  1  1 -1  1 -1  1  1  1 -1  1  1  1  1  1\n",
      " -1 -1  1 -1  1 -1 -1  1 -1  1  1  1  1  1 -1  1 -1 -1  1 -1  1  1  1 -1\n",
      "  1 -1  1 -1  1 -1 -1 -1  1  1  1  1 -1 -1  1  1  1  1 -1  1  1 -1  1  1\n",
      " -1  1 -1  1 -1 -1  1 -1  1 -1  1 -1  1 -1 -1 -1  1 -1 -1 -1 -1  1 -1  1\n",
      "  1  1  1  1 -1  1 -1 -1  1  1  1  1  1 -1  1  1  1 -1  1 -1 -1  1  1 -1\n",
      " -1 -1 -1  1 -1 -1  1 -1  1  1  1  1  1 -1 -1  1  1 -1  1 -1  1  1 -1 -1\n",
      " -1  1 -1  1  1 -1  1  1 -1 -1 -1 -1  1 -1 -1  1  1 -1  1  1  1  1 -1  1\n",
      "  1 -1  1 -1 -1 -1  1 -1 -1 -1 -1  1 -1 -1 -1 -1 -1 -1  1  1  1 -1 -1 -1\n",
      " -1  1 -1 -1 -1 -1  1 -1  1  1  1  1  1  1  1  1  1  1  1  1 -1  1 -1 -1\n",
      " -1 -1  1  1  1  1 -1  1  1  1 -1  1  1 -1  1  1 -1  1 -1  1 -1 -1  1  1\n",
      "  1 -1 -1  1  1  1 -1  1 -1 -1  1  1  1  1  1  1]\n"
     ]
    }
   ],
   "source": [
    "generate_datasets_one_for_all(test, train, size_test=1000, size_train=500)"
   ]
  }
 ],
 "metadata": {
  "interpreter": {
   "hash": "df0893f56f349688326838aaeea0de204df53a132722cbd565e54b24a8fec5f6"
  },
  "kernelspec": {
   "display_name": "Python 3.8.10 64-bit",
   "language": "python",
   "name": "python3"
  },
  "language_info": {
   "codemirror_mode": {
    "name": "ipython",
    "version": 3
   },
   "file_extension": ".py",
   "mimetype": "text/x-python",
   "name": "python",
   "nbconvert_exporter": "python",
   "pygments_lexer": "ipython3",
   "version": "3.8.10"
  },
  "orig_nbformat": 4
 },
 "nbformat": 4,
 "nbformat_minor": 2
}
